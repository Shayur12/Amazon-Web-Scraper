{
 "cells": [
  {
   "cell_type": "code",
   "execution_count": 2,
   "id": "6d027dae-3cff-4f5a-ba10-0f67c9b0888e",
   "metadata": {},
   "outputs": [],
   "source": [
    "from bs4 import BeautifulSoup\n",
    "import requests\n",
    "import time\n",
    "import datetime\n",
    "import smtplib"
   ]
  },
  {
   "cell_type": "code",
   "execution_count": 9,
   "id": "58185d3f-bf86-4fd6-9817-8a85a5d5562d",
   "metadata": {},
   "outputs": [
    {
     "name": "stdout",
     "output_type": "stream",
     "text": [
      "\n",
      "                            139\n",
      "                            \n",
      "                             .\n",
      "                            \n",
      "\n",
      "\n",
      "             Z-Edge 24.5\" Gaming Monitor, Z-Edge UG25I FHD 1920x1080 240Hz Gaming Monitor, 1ms Frameless LED, AMD Freesync Premium Display Port HDMI\n",
      "            \n",
      "\n",
      "\n",
      "\n",
      "            About this item\n",
      "           \n",
      "\n",
      "\n",
      "\n",
      "              240Hz High Refresh Rate: Featuring rapid 240Hz refresh rate, this allows for a smoother, more responsive gaming experience with less motion blur. Low 1ms response time guarantees pixels on the screen can change color quickly, reducing motion blur and ghosting. Premium Free-sync technology can synchronize the gaming monitor's refresh rate with the graphics card's output, reducing screen tearing and stuttering during gameplay.\n",
      "             \n",
      "\n",
      "\n",
      "\n",
      "              Born for Gaming: FPS and RTS Game Modes are preset display settings built for an enhanced gaming experience. HDR technology allows for a wider range of colors and greater contrast, resulting in more vivid, lifelike images, this can enhance the gaming experience and provide a more immersive visual experience.\n",
      "             \n",
      "\n",
      "\n",
      "\n",
      "              Powerful and Strong Connection: Built-in two HDMI 2.0 inputs and one Display 1.4 port, you can connect Desktop PC, Gaming Laptops, Switch, XBOX, PS gaming console to the monitor. All of the ports support up to impressive 240Hz refresh rate, our gaming monitor can offer pro-level gaming experience for the users.\n",
      "             \n",
      "\n",
      "\n",
      "\n",
      "              Ergonomic and Sleek Design: Support VESA mount 75*75mm, it can be installed on the wall or a mounting arm at ease, freeing up desk space and providing greater flexibility in positioning the monitor. Three-sided edge to edge design makes full use of the screen, brings the modern and sleek look to this streamlined monitor, easy to expand your views in a dual-monitor setup.\n",
      "             \n",
      "\n",
      "\n",
      "\n",
      "              Eye-Care Technology: Flicker free and low blue light features keep your eyes fresh after prolonged use. FHD 1920x1080 resolution allows for clear and detailed visuals. The 1000:1 contrast ratio presents the deep blacks and brilliant whites, allowing you to capture more image details even in the dark.\n",
      "             \n",
      "\n",
      "\n",
      "\n",
      "\n"
     ]
    }
   ],
   "source": [
    " URL= 'https://www.amazon.com/Monitor-1920x1080-Frameless-Freesync-Speakers/dp/B0C2C9KP1F/ref=sr_1_2_sspa?crid=2RP1DM9WEHWA7&dib=eyJ2IjoiMSJ9.8zDvBPZrlola1g6QxpgFLXL_QWLQ6cW5NZTDQhOcPoPcVZq5kiwhQZQR5O4zdeV75_DMlI-2-CwRL5PcYDaJkZ9Jrc2oPtGbKkUtokKFkAy9q1D1Jw2OpJz4blOOkQnhVg06Zzji_cAaGRLGzKux4CINaTvGDGQGvbCxVU_E7DOw2owcw5BLypVcANYbK4czLedXOclyNRBS1NcI9rPPDOF5bDGJpdbc3LxmdTVL-YE._WcGnO3JZ5CJ5NVsi7s9k_n4eZpsoKdhTzTspLH9vhA&dib_tag=se&keywords=monitor&qid=1724071188&sprefix=monitor%2Caps%2C532&sr=8-2-spons&sp_csd=d2lkZ2V0TmFtZT1zcF9hdGY&th=1'\n",
    "\n",
    "headers = {\"User-Agent\": \"Mozilla/5.0 (Windows NT 10.0; Win64; x64) AppleWebKit/537.36 (KHTML, like Gecko) Chrome/126.0.0.0 Safari/537.36 OPR/112.0.0.0\", \"Accept-Encoding\":\"gzip, deflate\", \"Accept\":\"text/html,application/xhtml+xml,application/xml;q=0.9,*/*;q=0.8\", \"DNT\":\"1\",\"Connection\":\"close\", \"Upgrade-Insecure-Requests\":\"1\"}\n",
    "\n",
    "page =requests.get(URL, headers=headers) \n",
    "\n",
    "soup1 = BeautifulSoup(page.content, \"html.parser\")\n",
    "soup2 =BeautifulSoup(soup1.prettify(), \"html.parser\")\n",
    "\n",
    "#pulling specicfic data based on elements on web page\n",
    "title = soup2.find(id='productTitle').get_text()\n",
    "features = soup2.find(id='feature-bullets').get_text()\n",
    "\n",
    "#printing price but the combingin val of whole and fractional price\n",
    "price_whole = soup2.find('span', class_='a-price-whole').get_text()\n",
    "#price_fraction = soup2.find('span', class_='a-price-fraction').get_text()\n",
    "#full_price = price_whole +'.'+ price_fraction\n",
    "\n",
    "#print(full_price)\n",
    "print(price_whole)\n",
    "print(title)\n",
    "print(features)\n",
    "\n",
    "\n",
    "\n",
    "\n"
   ]
  },
  {
   "cell_type": "code",
   "execution_count": 14,
   "id": "8895c1cd-c8a4-4147-9620-7ecfe88540c5",
   "metadata": {},
   "outputs": [
    {
     "name": "stdout",
     "output_type": "stream",
     "text": [
      "139\n",
      "                            \n",
      "                             .\n",
      "Z-Edge 24.5\" Gaming Monitor, Z-Edge UG25I FHD 1920x1080 240Hz Gaming Monitor, 1ms Frameless LED, AMD Freesync Premium Display Port HDMI\n",
      "About this item\n",
      "           \n",
      "\n",
      "\n",
      "\n",
      "              240Hz High Refresh Rate: Featuring rapid 240Hz refresh rate, this allows for a smoother, more responsive gaming experience with less motion blur. Low 1ms response time guarantees pixels on the screen can change color quickly, reducing motion blur and ghosting. Premium Free-sync technology can synchronize the gaming monitor's refresh rate with the graphics card's output, reducing screen tearing and stuttering during gameplay.\n",
      "             \n",
      "\n",
      "\n",
      "\n",
      "              Born for Gaming: FPS and RTS Game Modes are preset display settings built for an enhanced gaming experience. HDR technology allows for a wider range of colors and greater contrast, resulting in more vivid, lifelike images, this can enhance the gaming experience and provide a more immersive visual experience.\n",
      "             \n",
      "\n",
      "\n",
      "\n",
      "              Powerful and Strong Connection: Built-in two HDMI 2.0 inputs and one Display 1.4 port, you can connect Desktop PC, Gaming Laptops, Switch, XBOX, PS gaming console to the monitor. All of the ports support up to impressive 240Hz refresh rate, our gaming monitor can offer pro-level gaming experience for the users.\n",
      "             \n",
      "\n",
      "\n",
      "\n",
      "              Ergonomic and Sleek Design: Support VESA mount 75*75mm, it can be installed on the wall or a mounting arm at ease, freeing up desk space and providing greater flexibility in positioning the monitor. Three-sided edge to edge design makes full use of the screen, brings the modern and sleek look to this streamlined monitor, easy to expand your views in a dual-monitor setup.\n",
      "             \n",
      "\n",
      "\n",
      "\n",
      "              Eye-Care Technology: Flicker free and low blue light features keep your eyes fresh after prolonged use. FHD 1920x1080 resolution allows for clear and detailed visuals. The 1000:1 contrast ratio presents the deep blacks and brilliant whites, allowing you to capture more image details even in the dark.\n"
     ]
    }
   ],
   "source": [
    "title = title.strip()\n",
    "features = features.strip()\n",
    "price = price_whole.strip()\n",
    "\n",
    "\n",
    "print(price)\n",
    "print(title)\n",
    "print(features)"
   ]
  },
  {
   "cell_type": "code",
   "execution_count": 21,
   "id": "8f249328-2d88-4bce-8636-a0dc6c3a43a1",
   "metadata": {},
   "outputs": [
    {
     "name": "stdout",
     "output_type": "stream",
     "text": [
      "2024-08-20\n"
     ]
    }
   ],
   "source": [
    "import datetime\n",
    "\n",
    "today = datetime.date.today()\n",
    "\n",
    "print(today)"
   ]
  },
  {
   "cell_type": "code",
   "execution_count": 22,
   "id": "bc8fb839-3d1c-4d82-8ca2-4ba803222866",
   "metadata": {},
   "outputs": [],
   "source": [
    "import csv \n",
    "header = ['Title', 'Price', 'Date']\n",
    "data= [title, price, today]\n",
    "\n",
    "#writing to .csv file\n",
    "\n",
    "with open ('AmazonWebScraperDataset.csv', 'w', newline='', encoding='UTF8') as f:\n",
    "    writer =csv.writer(f)\n",
    "    writer.writerow(header)\n",
    "    writer.writerow(data)\n",
    "\n"
   ]
  },
  {
   "cell_type": "code",
   "execution_count": 37,
   "id": "b560bc79-d9a3-4e91-8550-6622dc2d54a5",
   "metadata": {},
   "outputs": [
    {
     "name": "stdout",
     "output_type": "stream",
     "text": [
      "  Z-Edge 24.5\" Gaming Monitor, Z-Edge UG25I FHD 1920x1080 240Hz Gaming Monitor, 1ms Frameless LED, AMD Freesync Premium Display Port HDMI  \\\n",
      "0  Z-Edge 24.5\" Gaming Monitor, Z-Edge UG25I FHD ...                                                                                        \n",
      "1  Z-Edge 24.5\" Gaming Monitor, Z-Edge UG25I FHD ...                                                                                        \n",
      "2  Z-Edge 24.5\" Gaming Monitor, Z-Edge UG25I FHD ...                                                                                        \n",
      "\n",
      "  139\\n                            \\n                             .  \\\n",
      "0  139\\n                            \\n           ...                  \n",
      "1  139\\n                            \\n           ...                  \n",
      "2  139\\n                            \\n           ...                  \n",
      "\n",
      "   2024-08-20  \n",
      "0  2024-08-20  \n",
      "1  2024-08-20  \n",
      "2  2024-08-20  \n"
     ]
    }
   ],
   "source": [
    "import pandas as pd\n",
    "\n",
    "df =  pd.read_csv(r'C:\\Users\\shayu\\AmazonWebScraperDataset.csv')\n",
    "\n",
    "print(df)"
   ]
  },
  {
   "cell_type": "code",
   "execution_count": 36,
   "id": "786644b1-7e1b-43fd-8c2a-002070757599",
   "metadata": {},
   "outputs": [],
   "source": [
    "#now appending data to the csv\n",
    "\n",
    "with open ('AmazonWebScraperDataset.csv', 'a+', newline='', encoding='UTF8') as f:\n",
    "    writer =csv.writer(f)\n",
    "    writer.writerow(data)"
   ]
  },
  {
   "cell_type": "code",
   "execution_count": 42,
   "id": "e7503ea7-e0db-4a31-b3e4-7572321e38d6",
   "metadata": {},
   "outputs": [],
   "source": [
    " def check_price():\n",
    "    URL= 'https://www.amazon.com/Monitor-1920x1080-Frameless-Freesync-Speakers/dp/B0C2C9KP1F/ref=sr_1_2_sspa?crid=2RP1DM9WEHWA7&dib=eyJ2IjoiMSJ9.8zDvBPZrlola1g6QxpgFLXL_QWLQ6cW5NZTDQhOcPoPcVZq5kiwhQZQR5O4zdeV75_DMlI-2-CwRL5PcYDaJkZ9Jrc2oPtGbKkUtokKFkAy9q1D1Jw2OpJz4blOOkQnhVg06Zzji_cAaGRLGzKux4CINaTvGDGQGvbCxVU_E7DOw2owcw5BLypVcANYbK4czLedXOclyNRBS1NcI9rPPDOF5bDGJpdbc3LxmdTVL-YE._WcGnO3JZ5CJ5NVsi7s9k_n4eZpsoKdhTzTspLH9vhA&dib_tag=se&keywords=monitor&qid=1724071188&sprefix=monitor%2Caps%2C532&sr=8-2-spons&sp_csd=d2lkZ2V0TmFtZT1zcF9hdGY&th=1'\n",
    "\n",
    "    headers = {\"User-Agent\": \"Mozilla/5.0 (Windows NT 10.0; Win64; x64) AppleWebKit/537.36 (KHTML, like Gecko) Chrome/126.0.0.0 Safari/537.36 OPR/112.0.0.0\", \"Accept-Encoding\":\"gzip, deflate\", \"Accept\":\"text/html,application/xhtml+xml,application/xml;q=0.9,*/*;q=0.8\", \"DNT\":\"1\",\"Connection\":\"close\", \"Upgrade-Insecure-Requests\":\"1\"}\n",
    "\n",
    "    page =requests.get(URL, headers=headers) \n",
    "\n",
    "    soup1 = BeautifulSoup(page.content, \"html.parser\")\n",
    "\n",
    "    soup2 =BeautifulSoup(soup1.prettify(), \"html.parser\")\n",
    "\n",
    "    title = soup2.find(id='productTitle').get_text()\n",
    "\n",
    "    features = soup2.find(id='feature-bullets').get_text()\n",
    "\n",
    "    price_whole = soup2.find('span', class_='a-price-whole').get_text()\n",
    "\n",
    "    title = title.strip()\n",
    "    features = features.strip()\n",
    "    price = price_whole.strip()\n",
    "\n",
    "    import datetime\n",
    "\n",
    "    today = datetime.date.today()\n",
    "\n",
    "    import csv \n",
    "    header = ['Title', 'Price', 'Date']\n",
    "    data= [title, price, today]\n",
    "\n",
    "    with open ('AmazonWebScraperDataset.csv', 'a+', newline='', encoding='UTF8') as f:\n",
    "        writer =csv.writer(f)\n",
    "        writer.writerow(data)\n"
   ]
  },
  {
   "cell_type": "code",
   "execution_count": 43,
   "id": "f27d2de4-4ca4-4d9c-b009-9f6fbe4bf116",
   "metadata": {},
   "outputs": [
    {
     "ename": "KeyboardInterrupt",
     "evalue": "",
     "output_type": "error",
     "traceback": [
      "\u001b[1;31m---------------------------------------------------------------------------\u001b[0m",
      "\u001b[1;31mKeyboardInterrupt\u001b[0m                         Traceback (most recent call last)",
      "Cell \u001b[1;32mIn[43], line 2\u001b[0m\n\u001b[0;32m      1\u001b[0m \u001b[38;5;28;01mwhile\u001b[39;00m(\u001b[38;5;28;01mTrue\u001b[39;00m):\n\u001b[1;32m----> 2\u001b[0m     check_price()\n\u001b[0;32m      3\u001b[0m     time\u001b[38;5;241m.\u001b[39msleep(\u001b[38;5;241m5\u001b[39m)\n",
      "Cell \u001b[1;32mIn[42], line 6\u001b[0m, in \u001b[0;36mcheck_price\u001b[1;34m()\u001b[0m\n\u001b[0;32m      2\u001b[0m URL\u001b[38;5;241m=\u001b[39m \u001b[38;5;124m'\u001b[39m\u001b[38;5;124mhttps://www.amazon.com/Monitor-1920x1080-Frameless-Freesync-Speakers/dp/B0C2C9KP1F/ref=sr_1_2_sspa?crid=2RP1DM9WEHWA7&dib=eyJ2IjoiMSJ9.8zDvBPZrlola1g6QxpgFLXL_QWLQ6cW5NZTDQhOcPoPcVZq5kiwhQZQR5O4zdeV75_DMlI-2-CwRL5PcYDaJkZ9Jrc2oPtGbKkUtokKFkAy9q1D1Jw2OpJz4blOOkQnhVg06Zzji_cAaGRLGzKux4CINaTvGDGQGvbCxVU_E7DOw2owcw5BLypVcANYbK4czLedXOclyNRBS1NcI9rPPDOF5bDGJpdbc3LxmdTVL-YE._WcGnO3JZ5CJ5NVsi7s9k_n4eZpsoKdhTzTspLH9vhA&dib_tag=se&keywords=monitor&qid=1724071188&sprefix=monitor\u001b[39m\u001b[38;5;124m%\u001b[39m\u001b[38;5;124m2Caps\u001b[39m\u001b[38;5;124m%\u001b[39m\u001b[38;5;124m2C532&sr=8-2-spons&sp_csd=d2lkZ2V0TmFtZT1zcF9hdGY&th=1\u001b[39m\u001b[38;5;124m'\u001b[39m\n\u001b[0;32m      4\u001b[0m headers \u001b[38;5;241m=\u001b[39m {\u001b[38;5;124m\"\u001b[39m\u001b[38;5;124mUser-Agent\u001b[39m\u001b[38;5;124m\"\u001b[39m: \u001b[38;5;124m\"\u001b[39m\u001b[38;5;124mMozilla/5.0 (Windows NT 10.0; Win64; x64) AppleWebKit/537.36 (KHTML, like Gecko) Chrome/126.0.0.0 Safari/537.36 OPR/112.0.0.0\u001b[39m\u001b[38;5;124m\"\u001b[39m, \u001b[38;5;124m\"\u001b[39m\u001b[38;5;124mAccept-Encoding\u001b[39m\u001b[38;5;124m\"\u001b[39m:\u001b[38;5;124m\"\u001b[39m\u001b[38;5;124mgzip, deflate\u001b[39m\u001b[38;5;124m\"\u001b[39m, \u001b[38;5;124m\"\u001b[39m\u001b[38;5;124mAccept\u001b[39m\u001b[38;5;124m\"\u001b[39m:\u001b[38;5;124m\"\u001b[39m\u001b[38;5;124mtext/html,application/xhtml+xml,application/xml;q=0.9,*/*;q=0.8\u001b[39m\u001b[38;5;124m\"\u001b[39m, \u001b[38;5;124m\"\u001b[39m\u001b[38;5;124mDNT\u001b[39m\u001b[38;5;124m\"\u001b[39m:\u001b[38;5;124m\"\u001b[39m\u001b[38;5;124m1\u001b[39m\u001b[38;5;124m\"\u001b[39m,\u001b[38;5;124m\"\u001b[39m\u001b[38;5;124mConnection\u001b[39m\u001b[38;5;124m\"\u001b[39m:\u001b[38;5;124m\"\u001b[39m\u001b[38;5;124mclose\u001b[39m\u001b[38;5;124m\"\u001b[39m, \u001b[38;5;124m\"\u001b[39m\u001b[38;5;124mUpgrade-Insecure-Requests\u001b[39m\u001b[38;5;124m\"\u001b[39m:\u001b[38;5;124m\"\u001b[39m\u001b[38;5;124m1\u001b[39m\u001b[38;5;124m\"\u001b[39m}\n\u001b[1;32m----> 6\u001b[0m page \u001b[38;5;241m=\u001b[39mrequests\u001b[38;5;241m.\u001b[39mget(URL, headers\u001b[38;5;241m=\u001b[39mheaders) \n\u001b[0;32m      8\u001b[0m soup1 \u001b[38;5;241m=\u001b[39m BeautifulSoup(page\u001b[38;5;241m.\u001b[39mcontent, \u001b[38;5;124m\"\u001b[39m\u001b[38;5;124mhtml.parser\u001b[39m\u001b[38;5;124m\"\u001b[39m)\n\u001b[0;32m     10\u001b[0m soup2 \u001b[38;5;241m=\u001b[39mBeautifulSoup(soup1\u001b[38;5;241m.\u001b[39mprettify(), \u001b[38;5;124m\"\u001b[39m\u001b[38;5;124mhtml.parser\u001b[39m\u001b[38;5;124m\"\u001b[39m)\n",
      "File \u001b[1;32mF:\\anaconda1\\Lib\\site-packages\\requests\\api.py:73\u001b[0m, in \u001b[0;36mget\u001b[1;34m(url, params, **kwargs)\u001b[0m\n\u001b[0;32m     62\u001b[0m \u001b[38;5;28;01mdef\u001b[39;00m \u001b[38;5;21mget\u001b[39m(url, params\u001b[38;5;241m=\u001b[39m\u001b[38;5;28;01mNone\u001b[39;00m, \u001b[38;5;241m*\u001b[39m\u001b[38;5;241m*\u001b[39mkwargs):\n\u001b[0;32m     63\u001b[0m \u001b[38;5;250m    \u001b[39m\u001b[38;5;124mr\u001b[39m\u001b[38;5;124;03m\"\"\"Sends a GET request.\u001b[39;00m\n\u001b[0;32m     64\u001b[0m \n\u001b[0;32m     65\u001b[0m \u001b[38;5;124;03m    :param url: URL for the new :class:`Request` object.\u001b[39;00m\n\u001b[1;32m   (...)\u001b[0m\n\u001b[0;32m     70\u001b[0m \u001b[38;5;124;03m    :rtype: requests.Response\u001b[39;00m\n\u001b[0;32m     71\u001b[0m \u001b[38;5;124;03m    \"\"\"\u001b[39;00m\n\u001b[1;32m---> 73\u001b[0m     \u001b[38;5;28;01mreturn\u001b[39;00m request(\u001b[38;5;124m\"\u001b[39m\u001b[38;5;124mget\u001b[39m\u001b[38;5;124m\"\u001b[39m, url, params\u001b[38;5;241m=\u001b[39mparams, \u001b[38;5;241m*\u001b[39m\u001b[38;5;241m*\u001b[39mkwargs)\n",
      "File \u001b[1;32mF:\\anaconda1\\Lib\\site-packages\\requests\\api.py:59\u001b[0m, in \u001b[0;36mrequest\u001b[1;34m(method, url, **kwargs)\u001b[0m\n\u001b[0;32m     55\u001b[0m \u001b[38;5;66;03m# By using the 'with' statement we are sure the session is closed, thus we\u001b[39;00m\n\u001b[0;32m     56\u001b[0m \u001b[38;5;66;03m# avoid leaving sockets open which can trigger a ResourceWarning in some\u001b[39;00m\n\u001b[0;32m     57\u001b[0m \u001b[38;5;66;03m# cases, and look like a memory leak in others.\u001b[39;00m\n\u001b[0;32m     58\u001b[0m \u001b[38;5;28;01mwith\u001b[39;00m sessions\u001b[38;5;241m.\u001b[39mSession() \u001b[38;5;28;01mas\u001b[39;00m session:\n\u001b[1;32m---> 59\u001b[0m     \u001b[38;5;28;01mreturn\u001b[39;00m session\u001b[38;5;241m.\u001b[39mrequest(method\u001b[38;5;241m=\u001b[39mmethod, url\u001b[38;5;241m=\u001b[39murl, \u001b[38;5;241m*\u001b[39m\u001b[38;5;241m*\u001b[39mkwargs)\n",
      "File \u001b[1;32mF:\\anaconda1\\Lib\\site-packages\\requests\\sessions.py:589\u001b[0m, in \u001b[0;36mSession.request\u001b[1;34m(self, method, url, params, data, headers, cookies, files, auth, timeout, allow_redirects, proxies, hooks, stream, verify, cert, json)\u001b[0m\n\u001b[0;32m    584\u001b[0m send_kwargs \u001b[38;5;241m=\u001b[39m {\n\u001b[0;32m    585\u001b[0m     \u001b[38;5;124m\"\u001b[39m\u001b[38;5;124mtimeout\u001b[39m\u001b[38;5;124m\"\u001b[39m: timeout,\n\u001b[0;32m    586\u001b[0m     \u001b[38;5;124m\"\u001b[39m\u001b[38;5;124mallow_redirects\u001b[39m\u001b[38;5;124m\"\u001b[39m: allow_redirects,\n\u001b[0;32m    587\u001b[0m }\n\u001b[0;32m    588\u001b[0m send_kwargs\u001b[38;5;241m.\u001b[39mupdate(settings)\n\u001b[1;32m--> 589\u001b[0m resp \u001b[38;5;241m=\u001b[39m \u001b[38;5;28mself\u001b[39m\u001b[38;5;241m.\u001b[39msend(prep, \u001b[38;5;241m*\u001b[39m\u001b[38;5;241m*\u001b[39msend_kwargs)\n\u001b[0;32m    591\u001b[0m \u001b[38;5;28;01mreturn\u001b[39;00m resp\n",
      "File \u001b[1;32mF:\\anaconda1\\Lib\\site-packages\\requests\\sessions.py:747\u001b[0m, in \u001b[0;36mSession.send\u001b[1;34m(self, request, **kwargs)\u001b[0m\n\u001b[0;32m    744\u001b[0m         \u001b[38;5;28;01mpass\u001b[39;00m\n\u001b[0;32m    746\u001b[0m \u001b[38;5;28;01mif\u001b[39;00m \u001b[38;5;129;01mnot\u001b[39;00m stream:\n\u001b[1;32m--> 747\u001b[0m     r\u001b[38;5;241m.\u001b[39mcontent\n\u001b[0;32m    749\u001b[0m \u001b[38;5;28;01mreturn\u001b[39;00m r\n",
      "File \u001b[1;32mF:\\anaconda1\\Lib\\site-packages\\requests\\models.py:899\u001b[0m, in \u001b[0;36mResponse.content\u001b[1;34m(self)\u001b[0m\n\u001b[0;32m    897\u001b[0m         \u001b[38;5;28mself\u001b[39m\u001b[38;5;241m.\u001b[39m_content \u001b[38;5;241m=\u001b[39m \u001b[38;5;28;01mNone\u001b[39;00m\n\u001b[0;32m    898\u001b[0m     \u001b[38;5;28;01melse\u001b[39;00m:\n\u001b[1;32m--> 899\u001b[0m         \u001b[38;5;28mself\u001b[39m\u001b[38;5;241m.\u001b[39m_content \u001b[38;5;241m=\u001b[39m \u001b[38;5;124mb\u001b[39m\u001b[38;5;124m\"\u001b[39m\u001b[38;5;124m\"\u001b[39m\u001b[38;5;241m.\u001b[39mjoin(\u001b[38;5;28mself\u001b[39m\u001b[38;5;241m.\u001b[39miter_content(CONTENT_CHUNK_SIZE)) \u001b[38;5;129;01mor\u001b[39;00m \u001b[38;5;124mb\u001b[39m\u001b[38;5;124m\"\u001b[39m\u001b[38;5;124m\"\u001b[39m\n\u001b[0;32m    901\u001b[0m \u001b[38;5;28mself\u001b[39m\u001b[38;5;241m.\u001b[39m_content_consumed \u001b[38;5;241m=\u001b[39m \u001b[38;5;28;01mTrue\u001b[39;00m\n\u001b[0;32m    902\u001b[0m \u001b[38;5;66;03m# don't need to release the connection; that's been handled by urllib3\u001b[39;00m\n\u001b[0;32m    903\u001b[0m \u001b[38;5;66;03m# since we exhausted the data.\u001b[39;00m\n",
      "File \u001b[1;32mF:\\anaconda1\\Lib\\site-packages\\requests\\models.py:816\u001b[0m, in \u001b[0;36mResponse.iter_content.<locals>.generate\u001b[1;34m()\u001b[0m\n\u001b[0;32m    814\u001b[0m \u001b[38;5;28;01mif\u001b[39;00m \u001b[38;5;28mhasattr\u001b[39m(\u001b[38;5;28mself\u001b[39m\u001b[38;5;241m.\u001b[39mraw, \u001b[38;5;124m\"\u001b[39m\u001b[38;5;124mstream\u001b[39m\u001b[38;5;124m\"\u001b[39m):\n\u001b[0;32m    815\u001b[0m     \u001b[38;5;28;01mtry\u001b[39;00m:\n\u001b[1;32m--> 816\u001b[0m         \u001b[38;5;28;01myield from\u001b[39;00m \u001b[38;5;28mself\u001b[39m\u001b[38;5;241m.\u001b[39mraw\u001b[38;5;241m.\u001b[39mstream(chunk_size, decode_content\u001b[38;5;241m=\u001b[39m\u001b[38;5;28;01mTrue\u001b[39;00m)\n\u001b[0;32m    817\u001b[0m     \u001b[38;5;28;01mexcept\u001b[39;00m ProtocolError \u001b[38;5;28;01mas\u001b[39;00m e:\n\u001b[0;32m    818\u001b[0m         \u001b[38;5;28;01mraise\u001b[39;00m ChunkedEncodingError(e)\n",
      "File \u001b[1;32mF:\\anaconda1\\Lib\\site-packages\\urllib3\\response.py:933\u001b[0m, in \u001b[0;36mHTTPResponse.stream\u001b[1;34m(self, amt, decode_content)\u001b[0m\n\u001b[0;32m    917\u001b[0m \u001b[38;5;250m\u001b[39m\u001b[38;5;124;03m\"\"\"\u001b[39;00m\n\u001b[0;32m    918\u001b[0m \u001b[38;5;124;03mA generator wrapper for the read() method. A call will block until\u001b[39;00m\n\u001b[0;32m    919\u001b[0m \u001b[38;5;124;03m``amt`` bytes have been read from the connection or until the\u001b[39;00m\n\u001b[1;32m   (...)\u001b[0m\n\u001b[0;32m    930\u001b[0m \u001b[38;5;124;03m    'content-encoding' header.\u001b[39;00m\n\u001b[0;32m    931\u001b[0m \u001b[38;5;124;03m\"\"\"\u001b[39;00m\n\u001b[0;32m    932\u001b[0m \u001b[38;5;28;01mif\u001b[39;00m \u001b[38;5;28mself\u001b[39m\u001b[38;5;241m.\u001b[39mchunked \u001b[38;5;129;01mand\u001b[39;00m \u001b[38;5;28mself\u001b[39m\u001b[38;5;241m.\u001b[39msupports_chunked_reads():\n\u001b[1;32m--> 933\u001b[0m     \u001b[38;5;28;01myield from\u001b[39;00m \u001b[38;5;28mself\u001b[39m\u001b[38;5;241m.\u001b[39mread_chunked(amt, decode_content\u001b[38;5;241m=\u001b[39mdecode_content)\n\u001b[0;32m    934\u001b[0m \u001b[38;5;28;01melse\u001b[39;00m:\n\u001b[0;32m    935\u001b[0m     \u001b[38;5;28;01mwhile\u001b[39;00m \u001b[38;5;129;01mnot\u001b[39;00m is_fp_closed(\u001b[38;5;28mself\u001b[39m\u001b[38;5;241m.\u001b[39m_fp) \u001b[38;5;129;01mor\u001b[39;00m \u001b[38;5;28mlen\u001b[39m(\u001b[38;5;28mself\u001b[39m\u001b[38;5;241m.\u001b[39m_decoded_buffer) \u001b[38;5;241m>\u001b[39m \u001b[38;5;241m0\u001b[39m:\n",
      "File \u001b[1;32mF:\\anaconda1\\Lib\\site-packages\\urllib3\\response.py:1073\u001b[0m, in \u001b[0;36mHTTPResponse.read_chunked\u001b[1;34m(self, amt, decode_content)\u001b[0m\n\u001b[0;32m   1070\u001b[0m     \u001b[38;5;28;01mreturn\u001b[39;00m \u001b[38;5;28;01mNone\u001b[39;00m\n\u001b[0;32m   1072\u001b[0m \u001b[38;5;28;01mwhile\u001b[39;00m \u001b[38;5;28;01mTrue\u001b[39;00m:\n\u001b[1;32m-> 1073\u001b[0m     \u001b[38;5;28mself\u001b[39m\u001b[38;5;241m.\u001b[39m_update_chunk_length()\n\u001b[0;32m   1074\u001b[0m     \u001b[38;5;28;01mif\u001b[39;00m \u001b[38;5;28mself\u001b[39m\u001b[38;5;241m.\u001b[39mchunk_left \u001b[38;5;241m==\u001b[39m \u001b[38;5;241m0\u001b[39m:\n\u001b[0;32m   1075\u001b[0m         \u001b[38;5;28;01mbreak\u001b[39;00m\n",
      "File \u001b[1;32mF:\\anaconda1\\Lib\\site-packages\\urllib3\\response.py:1001\u001b[0m, in \u001b[0;36mHTTPResponse._update_chunk_length\u001b[1;34m(self)\u001b[0m\n\u001b[0;32m    999\u001b[0m \u001b[38;5;28;01mif\u001b[39;00m \u001b[38;5;28mself\u001b[39m\u001b[38;5;241m.\u001b[39mchunk_left \u001b[38;5;129;01mis\u001b[39;00m \u001b[38;5;129;01mnot\u001b[39;00m \u001b[38;5;28;01mNone\u001b[39;00m:\n\u001b[0;32m   1000\u001b[0m     \u001b[38;5;28;01mreturn\u001b[39;00m \u001b[38;5;28;01mNone\u001b[39;00m\n\u001b[1;32m-> 1001\u001b[0m line \u001b[38;5;241m=\u001b[39m \u001b[38;5;28mself\u001b[39m\u001b[38;5;241m.\u001b[39m_fp\u001b[38;5;241m.\u001b[39mfp\u001b[38;5;241m.\u001b[39mreadline()  \u001b[38;5;66;03m# type: ignore[union-attr]\u001b[39;00m\n\u001b[0;32m   1002\u001b[0m line \u001b[38;5;241m=\u001b[39m line\u001b[38;5;241m.\u001b[39msplit(\u001b[38;5;124mb\u001b[39m\u001b[38;5;124m\"\u001b[39m\u001b[38;5;124m;\u001b[39m\u001b[38;5;124m\"\u001b[39m, \u001b[38;5;241m1\u001b[39m)[\u001b[38;5;241m0\u001b[39m]\n\u001b[0;32m   1003\u001b[0m \u001b[38;5;28;01mtry\u001b[39;00m:\n",
      "File \u001b[1;32mF:\\anaconda1\\Lib\\socket.py:706\u001b[0m, in \u001b[0;36mSocketIO.readinto\u001b[1;34m(self, b)\u001b[0m\n\u001b[0;32m    704\u001b[0m \u001b[38;5;28;01mwhile\u001b[39;00m \u001b[38;5;28;01mTrue\u001b[39;00m:\n\u001b[0;32m    705\u001b[0m     \u001b[38;5;28;01mtry\u001b[39;00m:\n\u001b[1;32m--> 706\u001b[0m         \u001b[38;5;28;01mreturn\u001b[39;00m \u001b[38;5;28mself\u001b[39m\u001b[38;5;241m.\u001b[39m_sock\u001b[38;5;241m.\u001b[39mrecv_into(b)\n\u001b[0;32m    707\u001b[0m     \u001b[38;5;28;01mexcept\u001b[39;00m timeout:\n\u001b[0;32m    708\u001b[0m         \u001b[38;5;28mself\u001b[39m\u001b[38;5;241m.\u001b[39m_timeout_occurred \u001b[38;5;241m=\u001b[39m \u001b[38;5;28;01mTrue\u001b[39;00m\n",
      "File \u001b[1;32mF:\\anaconda1\\Lib\\ssl.py:1315\u001b[0m, in \u001b[0;36mSSLSocket.recv_into\u001b[1;34m(self, buffer, nbytes, flags)\u001b[0m\n\u001b[0;32m   1311\u001b[0m     \u001b[38;5;28;01mif\u001b[39;00m flags \u001b[38;5;241m!=\u001b[39m \u001b[38;5;241m0\u001b[39m:\n\u001b[0;32m   1312\u001b[0m         \u001b[38;5;28;01mraise\u001b[39;00m \u001b[38;5;167;01mValueError\u001b[39;00m(\n\u001b[0;32m   1313\u001b[0m           \u001b[38;5;124m\"\u001b[39m\u001b[38;5;124mnon-zero flags not allowed in calls to recv_into() on \u001b[39m\u001b[38;5;132;01m%s\u001b[39;00m\u001b[38;5;124m\"\u001b[39m \u001b[38;5;241m%\u001b[39m\n\u001b[0;32m   1314\u001b[0m           \u001b[38;5;28mself\u001b[39m\u001b[38;5;241m.\u001b[39m\u001b[38;5;18m__class__\u001b[39m)\n\u001b[1;32m-> 1315\u001b[0m     \u001b[38;5;28;01mreturn\u001b[39;00m \u001b[38;5;28mself\u001b[39m\u001b[38;5;241m.\u001b[39mread(nbytes, buffer)\n\u001b[0;32m   1316\u001b[0m \u001b[38;5;28;01melse\u001b[39;00m:\n\u001b[0;32m   1317\u001b[0m     \u001b[38;5;28;01mreturn\u001b[39;00m \u001b[38;5;28msuper\u001b[39m()\u001b[38;5;241m.\u001b[39mrecv_into(buffer, nbytes, flags)\n",
      "File \u001b[1;32mF:\\anaconda1\\Lib\\ssl.py:1167\u001b[0m, in \u001b[0;36mSSLSocket.read\u001b[1;34m(self, len, buffer)\u001b[0m\n\u001b[0;32m   1165\u001b[0m \u001b[38;5;28;01mtry\u001b[39;00m:\n\u001b[0;32m   1166\u001b[0m     \u001b[38;5;28;01mif\u001b[39;00m buffer \u001b[38;5;129;01mis\u001b[39;00m \u001b[38;5;129;01mnot\u001b[39;00m \u001b[38;5;28;01mNone\u001b[39;00m:\n\u001b[1;32m-> 1167\u001b[0m         \u001b[38;5;28;01mreturn\u001b[39;00m \u001b[38;5;28mself\u001b[39m\u001b[38;5;241m.\u001b[39m_sslobj\u001b[38;5;241m.\u001b[39mread(\u001b[38;5;28mlen\u001b[39m, buffer)\n\u001b[0;32m   1168\u001b[0m     \u001b[38;5;28;01melse\u001b[39;00m:\n\u001b[0;32m   1169\u001b[0m         \u001b[38;5;28;01mreturn\u001b[39;00m \u001b[38;5;28mself\u001b[39m\u001b[38;5;241m.\u001b[39m_sslobj\u001b[38;5;241m.\u001b[39mread(\u001b[38;5;28mlen\u001b[39m)\n",
      "\u001b[1;31mKeyboardInterrupt\u001b[0m: "
     ]
    }
   ],
   "source": [
    "while(True):\n",
    "    check_price()\n",
    "    time.sleep(5)"
   ]
  },
  {
   "cell_type": "code",
   "execution_count": 44,
   "id": "c208b2ef-8b75-4e47-a6ca-0d0431992c93",
   "metadata": {},
   "outputs": [
    {
     "name": "stdout",
     "output_type": "stream",
     "text": [
      "   Z-Edge 24.5\" Gaming Monitor, Z-Edge UG25I FHD 1920x1080 240Hz Gaming Monitor, 1ms Frameless LED, AMD Freesync Premium Display Port HDMI  \\\n",
      "0   Z-Edge 24.5\" Gaming Monitor, Z-Edge UG25I FHD ...                                                                                        \n",
      "1   Z-Edge 24.5\" Gaming Monitor, Z-Edge UG25I FHD ...                                                                                        \n",
      "2   Z-Edge 24.5\" Gaming Monitor, Z-Edge UG25I FHD ...                                                                                        \n",
      "3   Z-Edge 24.5\" Gaming Monitor, Z-Edge UG25I FHD ...                                                                                        \n",
      "4   Z-Edge 24.5\" Gaming Monitor, Z-Edge UG25I FHD ...                                                                                        \n",
      "5   Z-Edge 24.5\" Gaming Monitor, Z-Edge UG25I FHD ...                                                                                        \n",
      "6   Z-Edge 24.5\" Gaming Monitor, Z-Edge UG25I FHD ...                                                                                        \n",
      "7   Z-Edge 24.5\" Gaming Monitor, Z-Edge UG25I FHD ...                                                                                        \n",
      "8   Z-Edge 24.5\" Gaming Monitor, Z-Edge UG25I FHD ...                                                                                        \n",
      "9   Z-Edge 24.5\" Gaming Monitor, Z-Edge UG25I FHD ...                                                                                        \n",
      "10  Z-Edge 24.5\" Gaming Monitor, Z-Edge UG25I FHD ...                                                                                        \n",
      "11  Z-Edge 24.5\" Gaming Monitor, Z-Edge UG25I FHD ...                                                                                        \n",
      "12  Z-Edge 24.5\" Gaming Monitor, Z-Edge UG25I FHD ...                                                                                        \n",
      "13  Z-Edge 24.5\" Gaming Monitor, Z-Edge UG25I FHD ...                                                                                        \n",
      "14  Z-Edge 24.5\" Gaming Monitor, Z-Edge UG25I FHD ...                                                                                        \n",
      "15  Z-Edge 24.5\" Gaming Monitor, Z-Edge UG25I FHD ...                                                                                        \n",
      "16  Z-Edge 24.5\" Gaming Monitor, Z-Edge UG25I FHD ...                                                                                        \n",
      "17  Z-Edge 24.5\" Gaming Monitor, Z-Edge UG25I FHD ...                                                                                        \n",
      "18  Z-Edge 24.5\" Gaming Monitor, Z-Edge UG25I FHD ...                                                                                        \n",
      "19  Z-Edge 24.5\" Gaming Monitor, Z-Edge UG25I FHD ...                                                                                        \n",
      "20  Z-Edge 24.5\" Gaming Monitor, Z-Edge UG25I FHD ...                                                                                        \n",
      "21  Z-Edge 24.5\" Gaming Monitor, Z-Edge UG25I FHD ...                                                                                        \n",
      "\n",
      "   139\\n                            \\n                             .  \\\n",
      "0   139\\n                            \\n           ...                  \n",
      "1   139\\n                            \\n           ...                  \n",
      "2   139\\n                            \\n           ...                  \n",
      "3   139\\n                            \\n           ...                  \n",
      "4   139\\n                            \\n           ...                  \n",
      "5   139\\n                            \\n           ...                  \n",
      "6   139\\n                            \\n           ...                  \n",
      "7   139\\n                            \\n           ...                  \n",
      "8   139\\n                            \\n           ...                  \n",
      "9   139\\n                            \\n           ...                  \n",
      "10  139\\n                            \\n           ...                  \n",
      "11  139\\n                            \\n           ...                  \n",
      "12  139\\n                            \\n           ...                  \n",
      "13  139\\n                            \\n           ...                  \n",
      "14  139\\n                            \\n           ...                  \n",
      "15  139\\n                            \\n           ...                  \n",
      "16  139\\n                            \\n           ...                  \n",
      "17  139\\n                            \\n           ...                  \n",
      "18  139\\n                            \\n           ...                  \n",
      "19  139\\n                            \\n           ...                  \n",
      "20  139\\n                            \\n           ...                  \n",
      "21  139\\n                            \\n           ...                  \n",
      "\n",
      "    2024-08-20  \n",
      "0   2024-08-20  \n",
      "1   2024-08-20  \n",
      "2   2024-08-20  \n",
      "3   2024-08-20  \n",
      "4   2024-08-20  \n",
      "5   2024-08-20  \n",
      "6   2024-08-20  \n",
      "7   2024-08-20  \n",
      "8   2024-08-20  \n",
      "9   2024-08-20  \n",
      "10  2024-08-20  \n",
      "11  2024-08-20  \n",
      "12  2024-08-20  \n",
      "13  2024-08-20  \n",
      "14  2024-08-20  \n",
      "15  2024-08-20  \n",
      "16  2024-08-20  \n",
      "17  2024-08-20  \n",
      "18  2024-08-20  \n",
      "19  2024-08-20  \n",
      "20  2024-08-20  \n",
      "21  2024-08-20  \n"
     ]
    }
   ],
   "source": [
    "import pandas as pd \n",
    "\n",
    "df=pd.read_csv(r'C:\\Users\\shayu\\AmazonWebScraperDataset.csv')\n",
    "\n",
    "print(df)"
   ]
  },
  {
   "cell_type": "code",
   "execution_count": 48,
   "id": "c6bad395-6969-4ae2-ae63-d1c7587b9473",
   "metadata": {},
   "outputs": [],
   "source": [
    "#testing sentiment analysis on reviews\n",
    "\n",
    "\n",
    "import matplotlib.pyplot as plt\n",
    "from vaderSentiment.vaderSentiment import SentimentIntensityAnalyzer\n",
    "from bs4 import BeautifulSoup"
   ]
  },
  {
   "cell_type": "code",
   "execution_count": 59,
   "id": "bbcd8676-0c1c-48b2-add3-f4a0a6cdc315",
   "metadata": {},
   "outputs": [],
   "source": [
    "#with open(\"/mnt/data/Amazon.com_ Z-Edge 24.5_ Gaming Monitor, Z-Edge UG25I FHD 1920x1080 240Hz Gaming Monitor, 1ms Frameless LED, AMD Freesync Premium Display Port HDMI _ Electronics.html\", \"r\", encoding=\"utf-8\") as file:\n",
    "\n",
    "#getting review data from web page\n",
    "soup1 = BeautifulSoup(page.content, \"html.parser\")\n",
    "\n",
    "\n",
    "reviews = [review.get_text() for review in soup1.find_all(id=\"customer-reviews-content\")]\n",
    "\n",
    "\n"
   ]
  },
  {
   "cell_type": "code",
   "execution_count": 60,
   "id": "cdfa891e-a488-42ad-8292-438251f80461",
   "metadata": {},
   "outputs": [],
   "source": [
    "#conducting sentiment analysis\n",
    "\n",
    "analyzer = SentimentIntensityAnalyzer()\n",
    "positive, neutral, negative = 0, 0, 0\n",
    "\n",
    "for review in reviews:\n",
    "    score = analyzer.polarity_scores(review)\n",
    "    if score['compound'] > 0.05:\n",
    "        positive += 1\n",
    "    elif score['compound'] < -0.05:\n",
    "        negative += 1\n",
    "    else:\n",
    "        neutral += 1"
   ]
  },
  {
   "cell_type": "code",
   "execution_count": 61,
   "id": "3a75dc06-8c5a-4058-9c46-f0ccb712787d",
   "metadata": {},
   "outputs": [],
   "source": [
    "#calculating stats based on review from each of the three catgeories\n",
    "\n",
    "labels = 'Positive', 'Neutral', 'Negative'\n",
    "sizes = [positive, neutral, negative]\n",
    "colors = ['gold', 'lightblue', 'lightcoral']\n",
    "explode = (0.1, 0, 0)"
   ]
  },
  {
   "cell_type": "code",
   "execution_count": 62,
   "id": "c3d8f4ff-2ea0-481a-b167-1445667f5a90",
   "metadata": {},
   "outputs": [
    {
     "data": {
      "image/png": "[encoded data removed]",
      "text/plain": [
       "<Figure size 800x600 with 1 Axes>"
      ]
     },
     "metadata": {},
     "output_type": "display_data"
    }
   ],
   "source": [
    "#creating pie chart to display stats of the reviews\n",
    "\n",
    "plt.figure(figsize=(8, 6))\n",
    "plt.pie(sizes, explode=explode, labels=labels, colors=colors, autopct='%1.1f%%', shadow=True, startangle=140)\n",
    "plt.axis('equal')  # Equal aspect ratio ensures that the pie chart is circular.\n",
    "plt.title('Sentiment Analysis of Product Reviews')\n",
    "plt.show()"
   ]
  },
  {
   "cell_type": "code",
   "execution_count": null,
   "id": "f00f9bf3-393b-4300-b5e5-1335d7fec941",
   "metadata": {},
   "outputs": [],
   "source": []
  }
 ],
 "metadata": {
  "kernelspec": {
   "display_name": "Python 3 (ipykernel)",
   "language": "python",
   "name": "python3"
  },
  "language_info": {
   "codemirror_mode": {
    "name": "ipython",
    "version": 3
   },
   "file_extension": ".py",
   "mimetype": "text/x-python",
   "name": "python",
   "nbconvert_exporter": "python",
   "pygments_lexer": "ipython3",
   "version": "3.11.7"
  }
 },
 "nbformat": 4,
 "nbformat_minor": 5
}
